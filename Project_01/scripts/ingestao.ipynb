{
 "cells": [
  {
   "cell_type": "code",
   "execution_count": 40,
   "metadata": {},
   "outputs": [],
   "source": [
    "import os\n",
    "from datetime import datetime\n",
    "import pandas as pd\n",
    "import duckdb\n"
   ]
  },
  {
   "cell_type": "code",
   "execution_count": 41,
   "metadata": {},
   "outputs": [],
   "source": [
    "con = duckdb.connect(database='dados_db.db', read_only=False)\n"
   ]
  },
  {
   "cell_type": "code",
   "execution_count": 46,
   "metadata": {},
   "outputs": [
    {
     "data": {
      "text/html": [
       "<div>\n",
       "<style scoped>\n",
       "    .dataframe tbody tr th:only-of-type {\n",
       "        vertical-align: middle;\n",
       "    }\n",
       "\n",
       "    .dataframe tbody tr th {\n",
       "        vertical-align: top;\n",
       "    }\n",
       "\n",
       "    .dataframe thead th {\n",
       "        text-align: right;\n",
       "    }\n",
       "</style>\n",
       "<table border=\"1\" class=\"dataframe\">\n",
       "  <thead>\n",
       "    <tr style=\"text-align: right;\">\n",
       "      <th></th>\n",
       "      <th>NATBR</th>\n",
       "      <th>MAKTX</th>\n",
       "      <th>WERKS</th>\n",
       "      <th>MAINS</th>\n",
       "      <th>LABST</th>\n",
       "      <th>data_ingestao</th>\n",
       "      <th>nome_arquivo</th>\n",
       "    </tr>\n",
       "  </thead>\n",
       "  <tbody>\n",
       "    <tr>\n",
       "      <th>0</th>\n",
       "      <td>10004</td>\n",
       "      <td>SERRA</td>\n",
       "      <td>BT50</td>\n",
       "      <td>100</td>\n",
       "      <td>200</td>\n",
       "      <td>2025-03-19 16:54:59.060575</td>\n",
       "      <td>z009_02.csv</td>\n",
       "    </tr>\n",
       "    <tr>\n",
       "      <th>1</th>\n",
       "      <td>10005</td>\n",
       "      <td>MACHADO</td>\n",
       "      <td>BT50</td>\n",
       "      <td>100</td>\n",
       "      <td>100</td>\n",
       "      <td>2025-03-19 16:54:59.060575</td>\n",
       "      <td>z009_02.csv</td>\n",
       "    </tr>\n",
       "    <tr>\n",
       "      <th>2</th>\n",
       "      <td>10003</td>\n",
       "      <td>PREGO</td>\n",
       "      <td>BT10</td>\n",
       "      <td>100</td>\n",
       "      <td>60</td>\n",
       "      <td>2025-03-19 16:54:59.060575</td>\n",
       "      <td>z009_02.csv</td>\n",
       "    </tr>\n",
       "  </tbody>\n",
       "</table>\n",
       "</div>"
      ],
      "text/plain": [
       "   NATBR    MAKTX WERKS  MAINS  LABST              data_ingestao nome_arquivo\n",
       "0  10004    SERRA  BT50    100    200 2025-03-19 16:54:59.060575  z009_02.csv\n",
       "1  10005  MACHADO  BT50    100    100 2025-03-19 16:54:59.060575  z009_02.csv\n",
       "2  10003    PREGO  BT10    100     60 2025-03-19 16:54:59.060575  z009_02.csv"
      ]
     },
     "execution_count": 46,
     "metadata": {},
     "output_type": "execute_result"
    }
   ],
   "source": [
    "data_ingestao = datetime.now()\n",
    "ingestao = 'z009_02.csv'\n",
    "df = pd.read_csv(f'../landing/{ingestao}', sep=';')\n",
    "df['data_ingestao'] = data_ingestao\n",
    "df[\"nome_arquivo\"] = ingestao\n",
    "df"
   ]
  },
  {
   "cell_type": "code",
   "execution_count": 47,
   "metadata": {},
   "outputs": [
    {
     "data": {
      "text/plain": [
       "<duckdb.duckdb.DuckDBPyConnection at 0x2053fc3c3b0>"
      ]
     },
     "execution_count": 47,
     "metadata": {},
     "output_type": "execute_result"
    }
   ],
   "source": [
    "con.execute(\"\"\"CREATE TABLE IF NOT EXISTS bronze_produtos\n",
    "            (NATBR VARCHAR,\n",
    "            MAKTX VARCHAR,\n",
    "            WERKS VARCHAR,\n",
    "            MAINS VARCHAR,\n",
    "            LABST VARCHAR,\n",
    "            DATA_INGESTAO TIMESTAMP,\n",
    "            NOME_ARQUIVO VARCHAR\n",
    "            )\n",
    "            \"\"\")\n"
   ]
  },
  {
   "cell_type": "code",
   "execution_count": 48,
   "metadata": {},
   "outputs": [
    {
     "data": {
      "text/plain": [
       "<duckdb.duckdb.DuckDBPyConnection at 0x2053fc3c3b0>"
      ]
     },
     "execution_count": 48,
     "metadata": {},
     "output_type": "execute_result"
    }
   ],
   "source": [
    "con.execute(\"\"\"INSERT INTO bronze_produtos SELECT * FROM df\"\"\")"
   ]
  },
  {
   "cell_type": "code",
   "execution_count": null,
   "metadata": {},
   "outputs": [
    {
     "ename": "ConnectionException",
     "evalue": "Connection Error: Connection already closed!",
     "output_type": "error",
     "traceback": [
      "\u001b[31m---------------------------------------------------------------------------\u001b[39m",
      "\u001b[31mConnectionException\u001b[39m                       Traceback (most recent call last)",
      "\u001b[36mCell\u001b[39m\u001b[36m \u001b[39m\u001b[32mIn[52]\u001b[39m\u001b[32m, line 1\u001b[39m\n\u001b[32m----> \u001b[39m\u001b[32m1\u001b[39m resultado = \u001b[43mcon\u001b[49m\u001b[43m.\u001b[49m\u001b[43mexecute\u001b[49m\u001b[43m(\u001b[49m\u001b[33;43m\"\u001b[39;49m\u001b[33;43mSELECT * FROM bronze_produtos\u001b[39;49m\u001b[33;43m\"\u001b[39;49m\u001b[43m)\u001b[49m.fetchdf()\n\u001b[32m      2\u001b[39m resultado.head()\n",
      "\u001b[31mConnectionException\u001b[39m: Connection Error: Connection already closed!"
     ]
    }
   ],
   "source": [
    "resultado = con.execute(\"SELECT * FROM bronze_produtos\").fetchdf()\n",
    "resultado.head(3)"
   ]
  },
  {
   "cell_type": "code",
   "execution_count": 51,
   "metadata": {},
   "outputs": [],
   "source": [
    "con.close()"
   ]
  },
  {
   "cell_type": "code",
   "execution_count": null,
   "metadata": {},
   "outputs": [],
   "source": []
  }
 ],
 "metadata": {
  "kernelspec": {
   "display_name": ".venv",
   "language": "python",
   "name": "python3"
  },
  "language_info": {
   "codemirror_mode": {
    "name": "ipython",
    "version": 3
   },
   "file_extension": ".py",
   "mimetype": "text/x-python",
   "name": "python",
   "nbconvert_exporter": "python",
   "pygments_lexer": "ipython3",
   "version": "3.13.2"
  }
 },
 "nbformat": 4,
 "nbformat_minor": 4
}
